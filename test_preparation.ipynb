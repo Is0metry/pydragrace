{
 "cells": [
  {
   "cell_type": "code",
   "execution_count": 1,
   "metadata": {},
   "outputs": [],
   "source": [
    "import wrangle as w\n",
    "import pandas as pd\n",
    "import numpy as np\n",
    "import re\n",
    "from importlib import reload\n",
    "import common\n",
    "import contestants\n",
    "import episodes as e\n",
    "import queeneps\n"
   ]
  },
  {
   "cell_type": "markdown",
   "metadata": {},
   "source": []
  },
  {
   "cell_type": "code",
   "execution_count": 2,
   "metadata": {},
   "outputs": [],
   "source": [
    "queens, queeneps, episodes = w.get_show_data()\n"
   ]
  },
  {
   "cell_type": "code",
   "execution_count": 3,
   "metadata": {},
   "outputs": [
    {
     "name": "stdout",
     "output_type": "stream",
     "text": [
      "<class 'pandas.core.frame.DataFrame'>\n",
      "RangeIndex: 356 entries, 0 to 355\n",
      "Data columns (total 8 columns):\n",
      " #   Column      Non-Null Count  Dtype   \n",
      "---  ------      --------------  -----   \n",
      " 0   queen_name  356 non-null    object  \n",
      " 1   age         356 non-null    uint16  \n",
      " 2   outcome     356 non-null    int8    \n",
      " 3   season      356 non-null    uint8   \n",
      " 4   series      356 non-null    category\n",
      " 5   city        356 non-null    object  \n",
      " 6   region      356 non-null    object  \n",
      " 7   winner      356 non-null    bool    \n",
      "dtypes: bool(1), category(1), int8(1), object(3), uint16(1), uint8(1)\n",
      "memory usage: 10.6+ KB\n"
     ]
    }
   ],
   "source": [
    "queens.info()"
   ]
  },
  {
   "cell_type": "code",
   "execution_count": 4,
   "metadata": {},
   "outputs": [],
   "source": [
    "reload(w)\n",
    "train, validate, test = w.split_queens(queens, queeneps, episodes)"
   ]
  },
  {
   "cell_type": "code",
   "execution_count": 7,
   "metadata": {},
   "outputs": [
    {
     "data": {
      "text/plain": [
       "(5562, 19)"
      ]
     },
     "execution_count": 7,
     "metadata": {},
     "output_type": "execute_result"
    }
   ],
   "source": [
    "train.shape"
   ]
  }
 ],
 "metadata": {
  "kernelspec": {
   "display_name": "ds",
   "language": "python",
   "name": "python3"
  },
  "language_info": {
   "codemirror_mode": {
    "name": "ipython",
    "version": 3
   },
   "file_extension": ".py",
   "mimetype": "text/x-python",
   "name": "python",
   "nbconvert_exporter": "python",
   "pygments_lexer": "ipython3",
   "version": "3.11.0"
  },
  "orig_nbformat": 4,
  "vscode": {
   "interpreter": {
    "hash": "3017cd4797bf12a2c81ef5ba3b65ed0d92f944fa0709225dc40687ba16375871"
   }
  }
 },
 "nbformat": 4,
 "nbformat_minor": 2
}
