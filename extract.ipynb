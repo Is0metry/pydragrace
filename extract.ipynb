{
 "cells": [
  {
   "attachments": {},
   "cell_type": "markdown",
   "metadata": {},
   "source": [
    "# This notebook generates the pickle files based on the `.rda` files in the original repository\n",
    "## Doing this in a notebook for the sake of convenience and because it only has to be done once. "
   ]
  },
  {
   "cell_type": "code",
   "execution_count": 3,
   "metadata": {},
   "outputs": [],
   "source": [
    "import numpy as np\n",
    "import pandas as pd\n",
    "import warnings\n",
    "import pyreadr"
   ]
  },
  {
   "cell_type": "code",
   "execution_count": null,
   "metadata": {},
   "outputs": [],
   "source": [
    "warnings.simplefilter(\"ignore\")\n",
    "%matplotlib inline\n",
    "%config InlineBackend.figure_format = 'retina'"
   ]
  },
  {
   "cell_type": "code",
   "execution_count": null,
   "metadata": {},
   "outputs": [],
   "source": [
    "contestants = pyreadr.read_r(path='data/rpdr_contestants.rda')['rpdr_contestants']\n",
    "contestants.season = contestants.season.str[1:].astype('int')\n",
    "contestants.age = contestants.age.astype('int')\n",
    "contestants.dob = pd.to_datetime(contestants.dob)\n",
    "hometown_df = contestants.hometown.str.split(', ',expand=True)\n",
    "hometown_df = hometown_df.rename(columns={0:'city',1:'state'}).drop(columns=[2])\n",
    "hometown_df.city = hometown_df.city.astype('category')\n",
    "hometown_df.state = hometown_df.state.astype('category')\n",
    "contestants = pd.concat([contestants,hometown_df],axis=1).drop(columns=['hometown'])\n",
    "contestants.to_pickle('data/contestants.pkl')"
   ]
  },
  {
   "cell_type": "code",
   "execution_count": 66,
   "metadata": {},
   "outputs": [],
   "source": [
    "def get_episode_type(row:pd.Series)->str:\n",
    "    if row.finale > 0:\n",
    "        return 'Finale'\n",
    "    elif row.penultimate > 0:\n",
    "        return 'Penultimate'\n",
    "    else:\n",
    "        return 'Standard'\n",
    "contep = pyreadr.read_r('data/rpdr_contep.rda')['rpdr_contep']\n",
    "contep.season = contep.season.str[1:].astype(np.int8)\n",
    "contep.episode = contep.episode.astype(np.int8)\n",
    "contep['rank'] = contep['rank'].fillna(-1).astype(np.int8)\n",
    "contep['rank'].name = 'ranking'\n",
    "contep.missc = contep.missc.astype('bool')\n",
    "contep.outcome = contep.outcome.astype('category')\n",
    "contep.eliminated = contep.eliminated.astype('bool')\n",
    "contep.participant = contep.participant.astype('bool')\n",
    "contep['etype'] = contep.apply(get_episode_type,axis=1).astype('category')\n",
    "contep.minichalw = contep.minichalw.fillna(-1).astype('bool')\n",
    "contep.index = pd.MultiIndex.from_frame(contep[['season','episode']])\n",
    "contep = contep.drop(columns=['season','episode','penultimate','finale'])\n",
    "contep.to_pickle('data/contep.pkl')"
   ]
  },
  {
   "cell_type": "code",
   "execution_count": 94,
   "metadata": {},
   "outputs": [],
   "source": [
    "def get_episode_type(row:pd.Series)->str:\n",
    "    if row.special > 0:\n",
    "        return 'Special'\n",
    "    elif row.finale > 0:\n",
    "        return 'Finale'\n",
    "    else:\n",
    "        return 'Standard'\n",
    "episodes = pyreadr.read_r('data/rpdr_ep.rda')['rpdr_ep']\n",
    "episodes.season = episodes.season.str[1:].astype(np.uint8)\n",
    "episodes.episode = episodes.episode.astype(np.uint8)\n",
    "episodes.index = pd.MultiIndex.from_frame(episodes[['season','episode']])\n",
    "episodes.airdate = pd.to_datetime(episodes.airdate)\n",
    "episodes.minic = episodes.minic.fillna('None').astype('string')\n",
    "episodes.numqueens = episodes.numqueens.fillna(0).astype(np.uint8)\n",
    "\n",
    "episodes['etype'] = episodes.apply(get_episode_type,axis=1)\n",
    "episodes.runwaytheme = episodes.runwaytheme.fillna('Not Listed').astype('string')\n",
    "\n",
    "for i in range(1,5):\n",
    "    episodes['minicw' + str(i)] = episodes['minicw' + str(i)].fillna('None').astype('string')\n",
    "bottom_drop = ['bottom' + str(i) for i in range(3,8)]\n",
    "episodes = episodes.drop(columns=['season','episode','special','finale'] + bottom_drop)\n",
    "episodes.to_pickle('data/episodes.pkl')"
   ]
  },
  {
   "cell_type": "code",
   "execution_count": null,
   "metadata": {},
   "outputs": [],
   "source": []
  },
  {
   "cell_type": "code",
   "execution_count": null,
   "metadata": {},
   "outputs": [],
   "source": []
  }
 ],
 "metadata": {
  "kernelspec": {
   "display_name": "base",
   "language": "python",
   "name": "python3"
  },
  "language_info": {
   "codemirror_mode": {
    "name": "ipython",
    "version": 3
   },
   "file_extension": ".py",
   "mimetype": "text/x-python",
   "name": "python",
   "nbconvert_exporter": "python",
   "pygments_lexer": "ipython3",
   "version": "3.10.9"
  },
  "orig_nbformat": 4,
  "vscode": {
   "interpreter": {
    "hash": "4ffbd1b0996e3a79afb3d81e30644170a5904f770a23d1ec65a6a61c4dfe8e95"
   }
  }
 },
 "nbformat": 4,
 "nbformat_minor": 2
}
