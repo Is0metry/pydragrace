{
 "cells": [
  {
   "cell_type": "code",
   "execution_count": 1,
   "metadata": {},
   "outputs": [],
   "source": [
    "import wrangle as w\n",
    "import pandas as pd\n",
    "import explore as e\n",
    "from importlib import reload"
   ]
  },
  {
   "attachments": {},
   "cell_type": "markdown",
   "metadata": {},
   "source": [
    "# Let the judgement begin\n",
    "![Judge Ru presiding](https://media.giphy.com/media/v1.Y2lkPTc5MGI3NjExZWY0NzEwOGNhNDBlYTRhMDRmY2FiMzIyMmMzZGQ0MzEwNDQwZDBlNSZjdD1n/MbgUbPUSiuaZy/giphy.gif)\n",
    "\n",
    "RuPaul's Drag Race is a competition reality show which began airing in 2009 on LogoTV, a small premium cable channel geared towards LGBTQ+ audiences. Since then, it has become an international phenomenon, winning multiple Emmy award and spawning multiple spinoffs and international versions. It has moved channels twice, first to VH1, and then to its current home on MTV, where it is now airing its fifteenth season. Winners of the show have toured internationally, [starred on Broadway in Drag](https://www.forbes.com/sites/jerylbrunner/2023/02/13/jinkx-monsoon-makes-a-big-splash-on-broadway-in-chicago/?sh=d9ebd493e4e2) and even gone on to host international versions of the show. The show has pretty much singlehandedly catapulted drag into the spotlight and given wider visibility to this distinctly queer artform.\n",
    "\n",
    "In case that introduction wasn't clear, I'm a **HUGE** fan of the show. I have seen every season from 3 onward, have a frankly alarming amount of merch from my favorite queens, and have seen more of them than I can count live. I've had my own intuitive methods of attempting to divine the winning queen. However, as my crystal ball is in the shop, I'm going to try to see if I can build a predictive model to figure it out for me! \n",
    "## Will Woody be able to crack the code and predict the next winner?\n",
    "\n",
    "![idk](https://c.tenor.com/0tntfvosClgAAAAC/alaska-rpdr.gif)\n",
    "\n",
    "But whatever happens, it should be sickening the house down boots yas gawd mama ockurrrr"
   ]
  },
  {
   "attachments": {},
   "cell_type": "markdown",
   "metadata": {},
   "source": [
    "# Mini Challenge - Acquisitiion and Preparation"
   ]
  },
  {
   "cell_type": "code",
   "execution_count": 2,
   "metadata": {},
   "outputs": [],
   "source": [
    "queens, queeneps, episodes = w.get_show_data(True)\n"
   ]
  },
  {
   "attachments": {},
   "cell_type": "markdown",
   "metadata": {},
   "source": [
    "## Acquiring the data\n",
    "- Data from the original show and 7 different international spinoffs (see below for complete list) was collected from Wikipedia using Beautiful Soup.\n"
   ]
  },
  {
   "cell_type": "code",
   "execution_count": 3,
   "metadata": {},
   "outputs": [
    {
     "data": {
      "text/markdown": [
       "- Rupaul's Drag Race (seasons 1-14)\n",
       "\n",
       "- Drag Race UK (seasons 1-4)\n",
       "\n",
       "- Canada's Drag Race (seasons 1-3)\n",
       "\n",
       "- Drag Race Down Under (seasons 1-2)\n",
       "\n",
       "- Drag Race España (seasons 1-2)\n",
       "\n",
       "- Drag Race Holland (seasons 1-2)\n",
       "\n",
       "- Drag Race Italia (seasons 1-2)\n",
       "\n",
       "- Drag Race France (season 1)\n",
       "\n"
      ],
      "text/plain": [
       "<IPython.core.display.Markdown object>"
      ]
     },
     "execution_count": 3,
     "metadata": {},
     "output_type": "execute_result"
    }
   ],
   "source": [
    "reload(e)\n",
    "e.series_markdown(episodes)"
   ]
  },
  {
   "cell_type": "markdown",
   "metadata": {},
   "source": [
    "- Data was collected in 3 parts from 3 different tables on each season's page:\n",
    "    - `queens`: data detailing the series the queen participated in, as well as name, age, hometown, and their placement in the season\n",
    "    - `episodes`: data detailing the episodes, including the series, season, and episode, its air date, and, where applicable information about the mini challenge, mini challenge winner, main/maxi challenge, and runway theme\n",
    "    - `queeneps`: Data detailing the performance of each queen per episode. This also includes the series, season, and episode, in addition to their placement in each episode"
   ]
  },
  {
   "cell_type": "code",
   "execution_count": 4,
   "metadata": {},
   "outputs": [
    {
     "data": {
      "text/plain": [
       "SAFE    1415\n",
       "WIN      341\n",
       "ELIM     327\n",
       "BTM      299\n",
       "Name: outcome, dtype: int64"
      ]
     },
     "execution_count": 4,
     "metadata": {},
     "output_type": "execute_result"
    }
   ],
   "source": [
    "queeneps.outcome.value_counts()"
   ]
  },
  {
   "attachments": {},
   "cell_type": "markdown",
   "metadata": {},
   "source": [
    "Outcome Code | Meaning\n",
    "---|---\n",
    "SAFE | Queen was designated safe\n",
    "WIN | Queen won the week's maxi-challenge\n",
    "BTM | Queen lip synced for their life, but was not eliminated\n",
    "ELIM | Queen was eliminated from the competition\n",
    "DISQ | Queen was disqualified from further participation in the competition"
   ]
  },
  {
   "attachments": {},
   "cell_type": "markdown",
   "metadata": {},
   "source": [
    "The data was then split between train, validate, and test on each of the queens "
   ]
  },
  {
   "cell_type": "code",
   "execution_count": 5,
   "metadata": {},
   "outputs": [],
   "source": [
    "reload(w)\n",
    "train, validate, test = w.split_queens(queens, queeneps, episodes)\n"
   ]
  },
  {
   "cell_type": "code",
   "execution_count": 6,
   "metadata": {},
   "outputs": [
    {
     "name": "stdout",
     "output_type": "stream",
     "text": [
      "<class 'pandas.core.frame.DataFrame'>\n",
      "Int64Index: 1292 entries, 0 to 1291\n",
      "Data columns (total 17 columns):\n",
      " #   Column                 Non-Null Count  Dtype         \n",
      "---  ------                 --------------  -----         \n",
      " 0   queen_name             1292 non-null   object        \n",
      " 1   age                    1292 non-null   uint16        \n",
      " 2   placement              1292 non-null   int8          \n",
      " 3   season                 1292 non-null   uint8         \n",
      " 4   series                 1292 non-null   object        \n",
      " 5   city                   1292 non-null   object        \n",
      " 6   region                 1292 non-null   object        \n",
      " 7   winner                 1292 non-null   bool          \n",
      " 8   episode                1292 non-null   uint8         \n",
      " 9   outcome                1292 non-null   category      \n",
      " 10  episode_name           1292 non-null   object        \n",
      " 11  air_date               1292 non-null   datetime64[ns]\n",
      " 12  summary                1292 non-null   object        \n",
      " 13  mini_challenge         1292 non-null   object        \n",
      " 14  main_challenge         1292 non-null   object        \n",
      " 15  mini_challenge_winner  1292 non-null   object        \n",
      " 16  runway_theme           1292 non-null   object        \n",
      "dtypes: bool(1), category(1), datetime64[ns](1), int8(1), object(10), uint16(1), uint8(2)\n",
      "memory usage: 130.2+ KB\n"
     ]
    }
   ],
   "source": [
    "train.info()"
   ]
  },
  {
   "cell_type": "code",
   "execution_count": 7,
   "metadata": {},
   "outputs": [
    {
     "ename": "SyntaxError",
     "evalue": "incomplete input (2985670977.py, line 3)",
     "output_type": "error",
     "traceback": [
      "\u001b[0;36m  Cell \u001b[0;32mIn[7], line 3\u001b[0;36m\u001b[0m\n\u001b[0;31m    \u001b[0m\n\u001b[0m    ^\u001b[0m\n\u001b[0;31mSyntaxError\u001b[0m\u001b[0;31m:\u001b[0m incomplete input\n"
     ]
    }
   ],
   "source": [
    "outcome_breakdown = train.groupby(['queen_name','winner']).outcome.value_counts()\n",
    "for index, value in outcome_breakdown.items():\n",
    " "
   ]
  }
 ],
 "metadata": {
  "kernelspec": {
   "display_name": "ds",
   "language": "python",
   "name": "python3"
  },
  "language_info": {
   "codemirror_mode": {
    "name": "ipython",
    "version": 3
   },
   "file_extension": ".py",
   "mimetype": "text/x-python",
   "name": "python",
   "nbconvert_exporter": "python",
   "pygments_lexer": "ipython3",
   "version": "3.11.0"
  },
  "orig_nbformat": 4,
  "vscode": {
   "interpreter": {
    "hash": "3017cd4797bf12a2c81ef5ba3b65ed0d92f944fa0709225dc40687ba16375871"
   }
  }
 },
 "nbformat": 4,
 "nbformat_minor": 2
}
